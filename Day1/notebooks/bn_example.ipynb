{
 "cells": [
  {
   "cell_type": "markdown",
   "id": "73f49159",
   "metadata": {},
   "source": [
    "# Bayesian Networks in Probabilistic Machine Learning\n",
    "\n",
    "## Introduction\n",
    "This notebook illustrates the concept of **Bayesian Networks** using the **pgmpy** package. We will:\n",
    "1. Define a Bayesian Network structure.\n",
    "2. Specify conditional probability distributions (CPDs) with detailed explanations.\n",
    "3. Validate the model.\n",
    "4. Visualize the Bayesian network.\n",
    "5. Perform inference to compute probabilities of fire given sensor readings.\n",
    "\n",
    "---\n"
   ]
  },
  {
   "cell_type": "markdown",
   "id": "7bb1e4ed",
   "metadata": {},
   "source": [
    "## Step 1: Import Required Libraries\n",
    "We start by importing the necessary libraries for building and visualizing Bayesian networks.\n"
   ]
  },
  {
   "cell_type": "code",
   "execution_count": null,
   "id": "50ebe573",
   "metadata": {},
   "outputs": [],
   "source": [
    "!pip install pgmpy\n",
    "!pip install networkx\n",
    "!pip install matplotlib"
   ]
  },
  {
   "cell_type": "code",
   "execution_count": 1,
   "id": "220afb25",
   "metadata": {},
   "outputs": [
    {
     "name": "stderr",
     "output_type": "stream",
     "text": [
      "/Users/zp25hk/Documents/github/andresmasegosa/2025-PhD-Course-PML/venv/lib/python3.9/site-packages/tqdm/auto.py:21: TqdmWarning: IProgress not found. Please update jupyter and ipywidgets. See https://ipywidgets.readthedocs.io/en/stable/user_install.html\n",
      "  from .autonotebook import tqdm as notebook_tqdm\n",
      "/Users/zp25hk/Documents/github/andresmasegosa/2025-PhD-Course-PML/venv/lib/python3.9/site-packages/urllib3/__init__.py:35: NotOpenSSLWarning: urllib3 v2 only supports OpenSSL 1.1.1+, currently the 'ssl' module is compiled with 'LibreSSL 2.8.3'. See: https://github.com/urllib3/urllib3/issues/3020\n",
      "  warnings.warn(\n"
     ]
    }
   ],
   "source": [
    "import numpy as np\n",
    "import pandas as pd\n",
    "import networkx as nx\n",
    "import matplotlib.pyplot as plt\n",
    "from pgmpy.models import BayesianNetwork\n",
    "from pgmpy.factors.discrete import TabularCPD\n",
    "from pgmpy.inference import VariableElimination\n"
   ]
  },
  {
   "cell_type": "markdown",
   "id": "24e7f2e6",
   "metadata": {},
   "source": [
    "## Step 2: Define the Bayesian Network Structure\n",
    "A Bayesian Network is a **directed acyclic graph (DAG)** where:\n",
    "- **Nodes represent random variables** (e.g., Fire, Temperature, Smoke, and Sensors).\n",
    "- **Edges represent probabilistic dependencies** between variables. If there is an edge from node A to node B, it means that A has a direct influence on B.\n",
    "\n",
    "The network structure captures **causal relationships** between events. In our case:\n",
    "- **Fire** is the root cause, influencing both **Temperature** and **Smoke**.\n",
    "- **Temperature** affects three independent temperature sensors (**T1, T2, T3**).\n",
    "- **Smoke** affects a single smoke sensor (**S1**).\n",
    "\n",
    "This structure is **encoded using directed edges**, where each tuple `(A, B)` means \"A influences B.\" \n",
    "We define the network in `pgmpy` as follows:\n",
    "\n",
    "<center>\n",
    "<img src=\"https://github.com/PGM-Lab/2025-PhD-Course-PML/raw/main/Day1/notebooks/bn1.png\" alt=\"Drawing\" width=300 >\n",
    "</center>"
   ]
  },
  {
   "cell_type": "code",
   "execution_count": 2,
   "id": "27c8ee3b",
   "metadata": {},
   "outputs": [],
   "source": [
    "# Define Bayesian Network structure\n",
    "model = BayesianNetwork([\n",
    "    ('Fire', 'Temp'),  # Fire influences Temperature\n",
    "    ('Fire', 'Smoke'),  # Fire influences Smoke\n",
    "    ('Temp', 'T1'),  # Temperature influences sensor T1\n",
    "    ('Temp', 'T2'),  # Temperature influences sensor T2\n",
    "    ('Temp', 'T3'),  # Temperature influences sensor T3\n",
    "    ('Smoke', 'S1')   # Smoke influences sensor S1\n",
    "])\n"
   ]
  },
  {
   "cell_type": "markdown",
   "id": "ff6afc7a",
   "metadata": {},
   "source": [
    "## Step 3: Define Conditional Probability Distributions (CPDs)\n",
    "Each node in the network requires a probability distribution. \n",
    "- The **root node** (Fire) has a prior probability distribution, as it has no parents.\n",
    "- The **other nodes** (Temp, Smoke, T1, T2, T3, S1) have conditional probability distributions (CPDs) based on their parent nodes.\n",
    "\n",
    "### Defining the Prior Probability Distribution\n",
    "The node **Fire** is a binary variable (Fire = {0,1}). Since fires are relatively rare events, we assume:\n",
    "- 99% probability that there is **no fire** (`Fire=0`).\n",
    "- 1% probability that there **is a fire** (`Fire=1`).\n",
    "\n",
    "This prior is based on expert knowledge that fires are rare but still possible.\n"
   ]
  },
  {
   "cell_type": "code",
   "execution_count": 3,
   "id": "491a40ab",
   "metadata": {},
   "outputs": [],
   "source": [
    "# Define CPD for Fire (prior probability)\n",
    "cpd_fire = TabularCPD(variable='Fire', variable_card=2, values=[[0.99], [0.01]])\n"
   ]
  },
  {
   "cell_type": "markdown",
   "id": "728d2f60",
   "metadata": {},
   "source": [
    "### Defining Conditional Probability Distributions (CPDs)\n",
    "\n",
    "#### Temperature given Fire\n",
    "The **Temperature (Temp)** variable depends on **Fire**. Based on expert knowledge, we assume:\n",
    "- If **no fire** (`Fire=0`), the probability of normal temperature is **95%**, and a high temperature due to other causes is **5%**.\n",
    "- If there **is a fire** (`Fire=1`), the probability of high temperature is much higher (**80%**), but still, in some cases (e.g., fire just started), the temperature may remain normal (**20%**).\n"
   ]
  },
  {
   "cell_type": "code",
   "execution_count": 4,
   "id": "e4bc691f",
   "metadata": {},
   "outputs": [],
   "source": [
    "cpd_temp = TabularCPD(variable='Temp', variable_card=2, \n",
    "                       values=[[0.95, 0.2], [0.05, 0.8]], \n",
    "                       evidence=['Fire'], evidence_card=[2])\n"
   ]
  },
  {
   "cell_type": "markdown",
   "id": "c1f0fda4",
   "metadata": {},
   "source": [
    "#### Smoke given Fire\n",
    "The **Smoke** variable is another direct consequence of fire. Based on fire dynamics, we assume:\n",
    "- If **no fire** (`Fire=0`), the probability of detecting smoke is **only 2%**, possibly due to external sources (pollution, steam, etc.).\n",
    "- If there **is a fire** (`Fire=1`), the probability of smoke is very high (**90%**), but not absolute, as some fires (e.g., electrical fires) may produce little smoke.\n"
   ]
  },
  {
   "cell_type": "code",
   "execution_count": 5,
   "id": "27d06f85",
   "metadata": {},
   "outputs": [],
   "source": [
    "cpd_smoke = TabularCPD(variable='Smoke', variable_card=2, \n",
    "                        values=[[0.98, 0.1], [0.02, 0.9]], \n",
    "                        evidence=['Fire'], evidence_card=[2])\n"
   ]
  },
  {
   "cell_type": "markdown",
   "id": "4b457f7e",
   "metadata": {},
   "source": [
    "#### Sensor Readings given Temperature\n",
    "We model three independent temperature sensors **T1, T2, and T3** that depend on **Temp**:\n",
    "- If **temperature is normal** (`Temp=0`), the sensors correctly read normal temperature **90%** of the time but have a **10%** chance of error.\n",
    "- If **temperature is high** (`Temp=1`), the sensors detect it with **80%** accuracy but still have **20%** false negatives due to sensor faults.\n",
    "\n",
    "These values represent standardized sensor reliability rates across all temperature sensors.\n"
   ]
  },
  {
   "cell_type": "code",
   "execution_count": 6,
   "id": "2ad00c52",
   "metadata": {},
   "outputs": [],
   "source": [
    "cpd_t1 = TabularCPD(variable='T1', variable_card=2, \n",
    "                     values=[[0.9, 0.2], [0.1, 0.8]], \n",
    "                     evidence=['Temp'], evidence_card=[2])\n",
    "\n",
    "cpd_t2 = TabularCPD(variable='T2', variable_card=2, \n",
    "                     values=[[0.9, 0.2], [0.1, 0.8]], \n",
    "                     evidence=['Temp'], evidence_card=[2])\n",
    "\n",
    "cpd_t3 = TabularCPD(variable='T3', variable_card=2, \n",
    "                     values=[[0.9, 0.2], [0.1, 0.8]], \n",
    "                     evidence=['Temp'], evidence_card=[2])\n"
   ]
  },
  {
   "cell_type": "markdown",
   "id": "f7f3f10c",
   "metadata": {},
   "source": [
    "#### Smoke Sensor Reading given Smoke\n",
    "The **S1 smoke sensor** depends on the **Smoke** variable:\n",
    "- If **no smoke** (`Smoke=0`), it correctly reads no smoke **90%** of the time but has a **10%** false positive rate.\n",
    "- If **smoke is present** (`Smoke=1`), it detects it **80%** of the time, with a **20%** chance of failure.\n",
    "\n",
    "These values reflect real-world sensor imperfections due to environmental noise and hardware reliability.\n"
   ]
  },
  {
   "cell_type": "code",
   "execution_count": 7,
   "id": "a48fcab3",
   "metadata": {},
   "outputs": [],
   "source": [
    "cpd_s1 = TabularCPD(variable='S1', variable_card=2, \n",
    "                     values=[[0.9, 0.2], [0.1, 0.8]], \n",
    "                     evidence=['Smoke'], evidence_card=[2])\n"
   ]
  },
  {
   "cell_type": "markdown",
   "id": "97da9cc2",
   "metadata": {},
   "source": [
    "## Step 4: Add CPDs to the Model\n",
    "Now that we have defined the CPDs, we add them to our Bayesian Network.\n"
   ]
  },
  {
   "cell_type": "code",
   "execution_count": 8,
   "id": "e0edaead",
   "metadata": {},
   "outputs": [],
   "source": [
    "# Add CPDs to the model\n",
    "model.add_cpds(cpd_fire, cpd_temp, cpd_smoke, cpd_t1, cpd_t2, cpd_t3, cpd_s1)\n"
   ]
  },
  {
   "cell_type": "markdown",
   "id": "32063217",
   "metadata": {},
   "source": [
    "## Step 5: Validate the Model\n",
    "Before proceeding further, we check whether the Bayesian Network is valid.\n"
   ]
  },
  {
   "cell_type": "code",
   "execution_count": 9,
   "id": "875c3012",
   "metadata": {},
   "outputs": [
    {
     "name": "stdout",
     "output_type": "stream",
     "text": [
      "Model Valid: True\n"
     ]
    }
   ],
   "source": [
    "# Verify if the model is valid\n",
    "print(\"Model Valid:\", model.check_model())\n"
   ]
  },
  {
   "cell_type": "markdown",
   "id": "15d048d2",
   "metadata": {},
   "source": [
    "## Step 6: Visualizing the Bayesian Network\n",
    "We visualize the structure of the Bayesian Network using the **networkx** library.\n"
   ]
  },
  {
   "cell_type": "code",
   "execution_count": 10,
   "id": "eed01d3c",
   "metadata": {},
   "outputs": [
    {
     "data": {
      "image/png": "[encoded data removed]",
      "text/plain": [
       "<Figure size 800x500 with 1 Axes>"
      ]
     },
     "metadata": {},
     "output_type": "display_data"
    }
   ],
   "source": [
    "# Visualizing the Bayesian Network\n",
    "plt.figure(figsize=(8, 5))\n",
    "G = nx.DiGraph()\n",
    "G.add_edges_from(model.edges())\n",
    "nx.draw(G, with_labels=True, node_color='lightblue', edge_color='gray', node_size=3000, font_size=12)\n",
    "plt.title(\"Bayesian Network Structure\")\n",
    "plt.show()\n"
   ]
  },
  {
   "cell_type": "markdown",
   "id": "3d935620",
   "metadata": {},
   "source": [
    "## Step 7: Observing the Impact of Evidence on Fire Probability\n",
    "One of the main advantages of Bayesian Networks is that they allow for probabilistic **inference**, meaning we can update our beliefs as we receive new evidence.\n",
    "\n",
    "We will now examine how the probability of **Fire** (`P(Fire=1)`) changes as more evidence accumulates.\n",
    "\n",
    "### **Initial Probability of Fire (No Evidence)**\n",
    "Before introducing any evidence, we compute the baseline probability of fire:\n"
   ]
  },
  {
   "cell_type": "code",
   "execution_count": 11,
   "id": "65a3af5d",
   "metadata": {},
   "outputs": [
    {
     "name": "stdout",
     "output_type": "stream",
     "text": [
      "P(Fire) with no evidence: +---------+-------------+\n",
      "| Fire    |   phi(Fire) |\n",
      "+=========+=============+\n",
      "| Fire(0) |      0.9900 |\n",
      "+---------+-------------+\n",
      "| Fire(1) |      0.0100 |\n",
      "+---------+-------------+\n"
     ]
    }
   ],
   "source": [
    "# Perform inference\n",
    "inference = VariableElimination(model)\n",
    "prob_fire_no_evidence = inference.query(variables=['Fire'])\n",
    "print(\"P(Fire) with no evidence:\", prob_fire_no_evidence)\n"
   ]
  },
  {
   "cell_type": "markdown",
   "id": "addc1599",
   "metadata": {},
   "source": [
    "### **Case 1: Evidence from One Temperature Sensor (T1=1)**\n",
    "If a single temperature sensor (`T1`) detects a high temperature (`T1=1`), the probability of **Fire** increases.\n",
    "\n",
    "Since sensors are not 100% reliable, we do not immediately conclude there is a fire, but we **update our belief**.\n"
   ]
  },
  {
   "cell_type": "code",
   "execution_count": 12,
   "id": "f4b786ef",
   "metadata": {},
   "outputs": [
    {
     "name": "stdout",
     "output_type": "stream",
     "text": [
      "P(Fire | T1=1): +---------+-------------+\n",
      "| Fire    |   phi(Fire) |\n",
      "+=========+=============+\n",
      "| Fire(0) |      0.9529 |\n",
      "+---------+-------------+\n",
      "| Fire(1) |      0.0471 |\n",
      "+---------+-------------+\n"
     ]
    }
   ],
   "source": [
    "prob_fire_given_t1 = inference.query(variables=['Fire'], evidence={'T1': 1})\n",
    "print(\"P(Fire | T1=1):\", prob_fire_given_t1)\n"
   ]
  },
  {
   "cell_type": "markdown",
   "id": "15c5f2c6",
   "metadata": {},
   "source": [
    "### **Case 2: Evidence from Smoke Sensor (S1=1)**\n",
    "Now, let's assume that in addition to the temperature sensor detecting high temperature, the smoke sensor (`S1`) also detects smoke (`S1=1`).\n",
    "\n",
    "Since smoke is a **stronger** indicator of fire than just high temperature, we expect the probability of fire to increase further.\n"
   ]
  },
  {
   "cell_type": "code",
   "execution_count": 13,
   "id": "fce1d164",
   "metadata": {},
   "outputs": [
    {
     "name": "stdout",
     "output_type": "stream",
     "text": [
      "P(Fire | S1=1): +---------+-------------+\n",
      "| Fire    |   phi(Fire) |\n",
      "+=========+=============+\n",
      "| Fire(0) |      0.9392 |\n",
      "+---------+-------------+\n",
      "| Fire(1) |      0.0608 |\n",
      "+---------+-------------+\n"
     ]
    }
   ],
   "source": [
    "prob_fire_given_s1 = inference.query(variables=['Fire'], evidence={'S1': 1})\n",
    "print(\"P(Fire | S1=1):\", prob_fire_given_s1)\n"
   ]
  },
  {
   "cell_type": "markdown",
   "id": "1319a91c",
   "metadata": {},
   "source": [
    "### **Case 3: Multiple Temperature Sensors and Smoke Detection**\n",
    "If multiple temperature sensors detect high temperature **and** smoke is present, this provides strong evidence for fire.\n",
    "\n",
    "We set evidence:\n",
    "- `T1=1` (high temperature detected by sensor T1)\n",
    "- `T2=1` (high temperature detected by sensor T2)\n",
    "- `S1=1` (smoke detected)\n",
    "\n",
    "This should significantly increase the probability of fire.\n"
   ]
  },
  {
   "cell_type": "code",
   "execution_count": 14,
   "id": "4f34aec3",
   "metadata": {},
   "outputs": [
    {
     "name": "stdout",
     "output_type": "stream",
     "text": [
      "P(Fire | T1=1, T2=1, S1=1): +---------+-------------+\n",
      "| Fire    |   phi(Fire) |\n",
      "+=========+=============+\n",
      "| Fire(0) |      0.5552 |\n",
      "+---------+-------------+\n",
      "| Fire(1) |      0.4448 |\n",
      "+---------+-------------+\n"
     ]
    }
   ],
   "source": [
    "prob_fire_given_t1_t2_s1 = inference.query(variables=['Fire'], evidence={'T1': 1, 'T2': 1, 'S1': 1})\n",
    "print(\"P(Fire | T1=1, T2=1, S1=1):\", prob_fire_given_t1_t2_s1)\n"
   ]
  },
  {
   "cell_type": "markdown",
   "id": "c49fdc68",
   "metadata": {},
   "source": [
    "### **Case 4: All Sensors Indicate Abnormal Readings**\n",
    "In the strongest case, all temperature sensors and the smoke sensor detect abnormal readings:\n",
    "- `T1=1`\n",
    "- `T2=1`\n",
    "- `T3=1`\n",
    "- `S1=1`\n",
    "\n",
    "Since all sensors provide independent confirmations of abnormal conditions, the probability of fire should approach 1 (certainty).\n"
   ]
  },
  {
   "cell_type": "code",
   "execution_count": 15,
   "id": "557bbd52",
   "metadata": {},
   "outputs": [
    {
     "name": "stdout",
     "output_type": "stream",
     "text": [
      "P(Fire | T1=1, T2=1, T3=1, S1=1): +---------+-------------+\n",
      "| Fire    |   phi(Fire) |\n",
      "+=========+=============+\n",
      "| Fire(0) |      0.5004 |\n",
      "+---------+-------------+\n",
      "| Fire(1) |      0.4996 |\n",
      "+---------+-------------+\n"
     ]
    }
   ],
   "source": [
    "prob_fire_given_all_sensors = inference.query(variables=['Fire'], evidence={'T1': 1, 'T2': 1, 'T3': 1, 'S1': 1})\n",
    "print(\"P(Fire | T1=1, T2=1, T3=1, S1=1):\", prob_fire_given_all_sensors)\n"
   ]
  },
  {
   "cell_type": "markdown",
   "id": "190ae516",
   "metadata": {},
   "source": [
    "## Step 8: Observations and Conclusions\n",
    "- **Single sensor evidence** (e.g., `T1=1`) increases `P(Fire)`, but not dramatically.\n",
    "- **Smoke detection (`S1=1`)** increases `P(Fire)` more than a single temperature reading.\n",
    "- **Combining evidence from multiple sensors** leads to a much stronger belief in the presence of a fire.\n",
    "- **When all sensors indicate abnormal readings**, the probability of fire becomes almost certain (`P(Fire) ≈ 1`).\n",
    "\n",
    "This step-by-step approach demonstrates how Bayesian Networks allow us to continuously update probabilities as more evidence is introduced, making them highly useful for real-world decision-making in uncertain environments.\n"
   ]
  },
  {
   "cell_type": "markdown",
   "id": "20923c26",
   "metadata": {},
   "source": [
    "## Exercise 1: Exploring the Impact of Sensor Reliability\n",
    "\n",
    "In this exercise, you will investigate how the reliability of sensors affects the final probabilities in our fire detection system. This will help you understand the relationship between sensor quality and system performance.\n",
    "\n",
    "### Task Description\n",
    "\n",
    "1. **Modify Sensor Reliability**:\n",
    "   - Currently, temperature sensors (T1, T2, T3) have reliability around 70-80% for detecting high temperature (`Temp=1`)\n",
    "   - The smoke sensor (S1) has 80% reliability for detecting smoke (`Smoke=1`)\n",
    "   - Create new CPDs with different reliability values:\n",
    "     * Try a \"high reliability\" scenario (90-95% accuracy)\n",
    "     * Try a \"low reliability\" scenario (50-60% accuracy)\n",
    "\n",
    "2. **Questions to Answer**:\n",
    "   a) How does the probability of fire change with a single sensor reading when using:\n",
    "      - High reliability sensors?\n",
    "      - Low reliability sensors?\n",
    "   \n",
    "   b) How many sensors need to show positive readings to reach a 95% probability of fire in each scenario?\n",
    "   \n",
    "   c) What happens when sensors disagree (some positive, some negative) in each reliability scenario?\n"
   ]
  },
  {
   "cell_type": "markdown",
   "id": "201ab213",
   "metadata": {},
   "source": [
    "## Extended Model: Adding Environmental and Human Factors\n",
    "\n",
    "In real-world scenarios, fire detection systems operate in complex environments where multiple factors can influence sensor readings. Let's extend our Bayesian network to include two important factors:\n",
    "\n",
    "1. **Season**: Affects ambient temperature\n",
    "2. **Presence of Cigarette**: Another potential source of smoke\n",
    "\n",
    "### Extending the Network Structure\n",
    "\n",
    "We'll modify our Bayesian network to include these new variables. This extension demonstrates how Bayesian networks can be incrementally enhanced to capture more complex real-world scenarios.\n",
    "\n",
    "<center>\n",
    "<img src=\"https://github.com/PGM-Lab/2025-PhD-Course-PML/raw/main/Day1/notebooks/bn2.png\" alt=\"Drawing\" width=300 >\n",
    "</center>"
   ]
  },
  {
   "cell_type": "code",
   "execution_count": 16,
   "id": "4772aaca",
   "metadata": {},
   "outputs": [
    {
     "name": "stderr",
     "output_type": "stream",
     "text": [
      "<>:10: SyntaxWarning: 'tuple' object is not callable; perhaps you missed a comma?\n",
      "<>:10: SyntaxWarning: 'tuple' object is not callable; perhaps you missed a comma?\n",
      "/var/folders/dy/p06tnkrj5gx6y73ndgxp5xdc0000gq/T/ipykernel_26440/2785834428.py:10: SyntaxWarning: 'tuple' object is not callable; perhaps you missed a comma?\n",
      "  ('Smoke', 'S1')        # Smoke influences sensor S1\n",
      "/var/folders/dy/p06tnkrj5gx6y73ndgxp5xdc0000gq/T/ipykernel_26440/2785834428.py:10: SyntaxWarning: 'tuple' object is not callable; perhaps you missed a comma?\n",
      "  ('Smoke', 'S1')        # Smoke influences sensor S1\n",
      "/var/folders/dy/p06tnkrj5gx6y73ndgxp5xdc0000gq/T/ipykernel_26440/2785834428.py:10: SyntaxWarning: 'tuple' object is not callable; perhaps you missed a comma?\n",
      "  ('Smoke', 'S1')        # Smoke influences sensor S1\n",
      "/var/folders/dy/p06tnkrj5gx6y73ndgxp5xdc0000gq/T/ipykernel_26440/2785834428.py:10: SyntaxWarning: 'tuple' object is not callable; perhaps you missed a comma?\n",
      "  ('Smoke', 'S1')        # Smoke influences sensor S1\n"
     ]
    },
    {
     "ename": "TypeError",
     "evalue": "'tuple' object is not callable",
     "output_type": "error",
     "traceback": [
      "\u001b[0;31m---------------------------------------------------------------------------\u001b[0m",
      "\u001b[0;31mTypeError\u001b[0m                                 Traceback (most recent call last)",
      "Cell \u001b[0;32mIn[16], line 10\u001b[0m\n\u001b[1;32m      1\u001b[0m \u001b[38;5;66;03m# Define extended Bayesian Network structure\u001b[39;00m\n\u001b[1;32m      2\u001b[0m extended_model \u001b[38;5;241m=\u001b[39m BayesianNetwork([\n\u001b[1;32m      3\u001b[0m     (\u001b[38;5;124m'\u001b[39m\u001b[38;5;124mFire\u001b[39m\u001b[38;5;124m'\u001b[39m, \u001b[38;5;124m'\u001b[39m\u001b[38;5;124mTemp\u001b[39m\u001b[38;5;124m'\u001b[39m),      \u001b[38;5;66;03m# Fire influences Temperature\u001b[39;00m\n\u001b[1;32m      4\u001b[0m     (\u001b[38;5;124m'\u001b[39m\u001b[38;5;124mSeason\u001b[39m\u001b[38;5;124m'\u001b[39m, \u001b[38;5;124m'\u001b[39m\u001b[38;5;124mTemp\u001b[39m\u001b[38;5;124m'\u001b[39m),    \u001b[38;5;66;03m# Season also influences Temperature\u001b[39;00m\n\u001b[1;32m      5\u001b[0m     (\u001b[38;5;124m'\u001b[39m\u001b[38;5;124mFire\u001b[39m\u001b[38;5;124m'\u001b[39m, \u001b[38;5;124m'\u001b[39m\u001b[38;5;124mSmoke\u001b[39m\u001b[38;5;124m'\u001b[39m),     \u001b[38;5;66;03m# Fire influences Smoke\u001b[39;00m\n\u001b[1;32m      6\u001b[0m     (\u001b[38;5;124m'\u001b[39m\u001b[38;5;124mCigarette\u001b[39m\u001b[38;5;124m'\u001b[39m, \u001b[38;5;124m'\u001b[39m\u001b[38;5;124mSmoke\u001b[39m\u001b[38;5;124m'\u001b[39m),\u001b[38;5;66;03m# Cigarette influences Smoke\u001b[39;00m\n\u001b[1;32m      7\u001b[0m     (\u001b[38;5;124m'\u001b[39m\u001b[38;5;124mTemp\u001b[39m\u001b[38;5;124m'\u001b[39m, \u001b[38;5;124m'\u001b[39m\u001b[38;5;124mT1\u001b[39m\u001b[38;5;124m'\u001b[39m),        \u001b[38;5;66;03m# Temperature influences sensor T1\u001b[39;00m\n\u001b[1;32m      8\u001b[0m     (\u001b[38;5;124m'\u001b[39m\u001b[38;5;124mTemp\u001b[39m\u001b[38;5;124m'\u001b[39m, \u001b[38;5;124m'\u001b[39m\u001b[38;5;124mT2\u001b[39m\u001b[38;5;124m'\u001b[39m),        \u001b[38;5;66;03m# Temperature influences sensor T2\u001b[39;00m\n\u001b[1;32m      9\u001b[0m     (\u001b[38;5;124m'\u001b[39m\u001b[38;5;124mTemp\u001b[39m\u001b[38;5;124m'\u001b[39m, \u001b[38;5;124m'\u001b[39m\u001b[38;5;124mT3\u001b[39m\u001b[38;5;124m'\u001b[39m),        \u001b[38;5;66;03m# Temperature influences sensor T3\u001b[39;00m\n\u001b[0;32m---> 10\u001b[0m     \u001b[43m(\u001b[49m\u001b[38;5;124;43m'\u001b[39;49m\u001b[38;5;124;43mSmoke\u001b[39;49m\u001b[38;5;124;43m'\u001b[39;49m\u001b[43m,\u001b[49m\u001b[43m \u001b[49m\u001b[38;5;124;43m'\u001b[39;49m\u001b[38;5;124;43mS1\u001b[39;49m\u001b[38;5;124;43m'\u001b[39;49m\u001b[43m)\u001b[49m\u001b[43m        \u001b[49m\u001b[38;5;66;43;03m# Smoke influences sensor S1\u001b[39;49;00m\n\u001b[1;32m     11\u001b[0m \u001b[43m    \u001b[49m\u001b[43m(\u001b[49m\u001b[38;5;124;43m'\u001b[39;49m\u001b[38;5;124;43mSmoke\u001b[39;49m\u001b[38;5;124;43m'\u001b[39;49m\u001b[43m,\u001b[49m\u001b[43m \u001b[49m\u001b[38;5;124;43m'\u001b[39;49m\u001b[38;5;124;43mS2\u001b[39;49m\u001b[38;5;124;43m'\u001b[39;49m\u001b[43m)\u001b[49m        \u001b[38;5;66;03m# Smoke influences sensor S2\u001b[39;00m\n\u001b[1;32m     12\u001b[0m ])\n",
      "\u001b[0;31mTypeError\u001b[0m: 'tuple' object is not callable"
     ]
    }
   ],
   "source": [
    "# Define extended Bayesian Network structure\n",
    "extended_model = BayesianNetwork([\n",
    "    ('Fire', 'Temp'),      # Fire influences Temperature\n",
    "    ('Season', 'Temp'),    # Season also influences Temperature\n",
    "    ('Fire', 'Smoke'),     # Fire influences Smoke\n",
    "    ('Cigarette', 'Smoke'),# Cigarette influences Smoke\n",
    "    ('Temp', 'T1'),        # Temperature influences sensor T1\n",
    "    ('Temp', 'T2'),        # Temperature influences sensor T2\n",
    "    ('Temp', 'T3'),        # Temperature influences sensor T3\n",
    "    ('Smoke', 'S1')        # Smoke influences sensor S1\n",
    "    ('Smoke', 'S2')        # Smoke influences sensor S2\n",
    "])\n"
   ]
  },
  {
   "cell_type": "markdown",
   "id": "811adaa6",
   "metadata": {},
   "source": [
    "### Defining New CPDs\n",
    "\n",
    "#### 1. Season Prior Probability\n",
    "We model seasons as {Winter=0, Summer=1}, with equal probability for simplicity:\n"
   ]
  },
  {
   "cell_type": "code",
   "execution_count": 57,
   "id": "844881e6",
   "metadata": {},
   "outputs": [],
   "source": [
    "cpd_season = TabularCPD(variable='Season', variable_card=2,\n",
    "                        values=[[0.5],    # P(Winter)\n",
    "                               [0.5]])    # P(Summer)\n"
   ]
  },
  {
   "cell_type": "markdown",
   "id": "a3f67210",
   "metadata": {},
   "source": [
    "#### 2. Cigarette Prior Probability\n",
    "We model the presence of cigarette smoking nearby as a binary variable:\n"
   ]
  },
  {
   "cell_type": "code",
   "execution_count": 58,
   "id": "52365031",
   "metadata": {},
   "outputs": [],
   "source": [
    "cpd_cigarette = TabularCPD(variable='Cigarette', variable_card=2,\n",
    "                           values=[[0.7],    # P(No cigarette)\n",
    "                                  [0.3]])    # P(Cigarette present)\n"
   ]
  },
  {
   "cell_type": "markdown",
   "id": "806a7348",
   "metadata": {},
   "source": [
    "#### 3. Modified Temperature CPD\n",
    "Now temperature depends on both Fire AND Season. This creates a more complex CPD with 4 combinations:\n",
    "- Winter (0) & No Fire (0)\n",
    "- Winter (0) & Fire (1)\n",
    "- Summer (1) & No Fire (0)\n",
    "- Summer (1) & Fire (1)\n"
   ]
  },
  {
   "cell_type": "code",
   "execution_count": 59,
   "id": "c0f524a9",
   "metadata": {},
   "outputs": [],
   "source": [
    "# Temperature CPD with two parents: Fire and Season\n",
    "cpd_temp_extended = TabularCPD(\n",
    "    variable='Temp',\n",
    "    variable_card=2,\n",
    "    values=[\n",
    "        # Fire=0        Fire=1\n",
    "        # S=0   S=1     S=0   S=1\n",
    "        [0.95, 0.20,    0.30, 0.05],  # Temp = Normal\n",
    "        [0.05, 0.80,    0.70, 0.95]   # Temp = High\n",
    "    ],\n",
    "    evidence=['Fire', 'Season'],\n",
    "    evidence_card=[2, 2]\n",
    ")\n"
   ]
  },
  {
   "cell_type": "markdown",
   "id": "dddb02dc",
   "metadata": {},
   "source": [
    "The values in this CPD represent:\n",
    "- P(Temp=normal | Winter, No Fire) = 0.95  # Most likely normal in winter without fire\n",
    "- P(Temp=normal | Summer, No Fire) = 0.20  # Less likely normal in summer without fire\n",
    "- P(Temp=normal | Winter, Fire) = 0.30     # Some chance of normal temp with fire in winter\n",
    "- P(Temp=normal | Summer, Fire) = 0.05     # Very unlikely normal with fire in summer\n",
    "\n",
    "#### 4. Modified Smoke CPD\n",
    "Similarly, smoke now depends on both Fire AND Cigarette:\n"
   ]
  },
  {
   "cell_type": "code",
   "execution_count": 60,
   "id": "00bb38c7",
   "metadata": {},
   "outputs": [],
   "source": [
    "# Smoke CPD with two parents: Fire and Cigarette\n",
    "cpd_smoke_extended = TabularCPD(\n",
    "    variable='Smoke',\n",
    "    variable_card=2,\n",
    "    values=[\n",
    "        # Fire=0        Fire=1\n",
    "        # C=0   C=1     C=0   C=1\n",
    "        [0.98, 0.60,    0.10, 0.05],  # Smoke = No\n",
    "        [0.02, 0.40,    0.90, 0.95]   # Smoke = Yes\n",
    "    ],\n",
    "    evidence=['Fire', 'Cigarette'],\n",
    "    evidence_card=[2, 2]\n",
    ")\n"
   ]
  },
  {
   "cell_type": "markdown",
   "id": "a651b393",
   "metadata": {},
   "source": [
    "The values represent:\n",
    "- P(Smoke=no | No Fire, No Cigarette) = 0.98  # Very likely no smoke\n",
    "- P(Smoke=no | No Fire, Cigarette) = 0.60     # Might be no smoke even with cigarette\n",
    "- P(Smoke=no | Fire, No Cigarette) = 0.10     # Unlikely no smoke with fire\n",
    "- P(Smoke=no | Fire, Cigarette) = 0.05        # Very unlikely no smoke with both\n",
    "\n"
   ]
  },
  {
   "cell_type": "markdown",
   "id": "40af9f6f",
   "metadata": {},
   "source": [
    "Let us add a new smoke sensor S2"
   ]
  },
  {
   "cell_type": "code",
   "execution_count": null,
   "id": "8f3e296f",
   "metadata": {},
   "outputs": [],
   "source": [
    "cpd_s2 = TabularCPD(variable='S2', variable_card=2, \n",
    "                     values=[[0.9, 0.2], [0.1, 0.8]], \n",
    "                     evidence=['Smoke'], evidence_card=[2])\n"
   ]
  },
  {
   "cell_type": "markdown",
   "id": "988fdf97",
   "metadata": {},
   "source": [
    "### Example: Using the Extended Model\n",
    "\n",
    "Let's see how these new factors affect our inference:"
   ]
  },
  {
   "cell_type": "code",
   "execution_count": 61,
   "id": "eb3c4859",
   "metadata": {},
   "outputs": [
    {
     "name": "stdout",
     "output_type": "stream",
     "text": [
      "P(Fire | Summer, T1=High):\n",
      " +---------+-------------+\n",
      "| Fire    |   phi(Fire) |\n",
      "+=========+=============+\n",
      "| Fire(0) |      0.9884 |\n",
      "+---------+-------------+\n",
      "| Fire(1) |      0.0116 |\n",
      "+---------+-------------+\n",
      "P(Fire | Smoke=Yes, Cigarette=Yes):\n",
      " +---------+-------------+\n",
      "| Fire    |   phi(Fire) |\n",
      "+=========+=============+\n",
      "| Fire(0) |      0.9801 |\n",
      "+---------+-------------+\n",
      "| Fire(1) |      0.0199 |\n",
      "+---------+-------------+\n"
     ]
    }
   ],
   "source": [
    "# Create and verify extended model\n",
    "extended_model.add_cpds(cpd_fire, cpd_season, cpd_cigarette, \n",
    "                       cpd_temp_extended, cpd_smoke_extended,\n",
    "                       cpd_t1, cpd_t2, cpd_t3, cpd_s1, cpd_s2)\n",
    "\n",
    "# Initialize inference\n",
    "extended_inference = VariableElimination(extended_model)\n",
    "\n",
    "# Query 1: Probability of Fire given high temperature in summer\n",
    "prob_fire_summer_temp = extended_inference.query(\n",
    "    variables=['Fire'],\n",
    "    evidence={'Season': 1, 'T1': 1}\n",
    ")\n",
    "print(\"P(Fire | Summer, T1=High):\\n\", prob_fire_summer_temp)\n",
    "\n",
    "# Query 2: Probability of Fire given smoke and cigarette\n",
    "prob_fire_smoke_cigarette = extended_inference.query(\n",
    "    variables=['Fire'],\n",
    "    evidence={'S1': 1, 'Cigarette': 1}\n",
    ")\n",
    "print(\"P(Fire | Smoke=Yes, Cigarette=Yes):\\n\", prob_fire_smoke_cigarette)\n"
   ]
  },
  {
   "cell_type": "markdown",
   "id": "63d54b1a",
   "metadata": {},
   "source": [
    "### Key Insights from the Extended Model\n",
    "\n",
    "1. **Context Matters**:\n",
    "   - High temperature in summer is less indicative of fire than in winter\n",
    "   - Smoke with known cigarette presence is less alarming than without\n",
    "\n",
    "2. **Multiple Causes**:\n",
    "   - The model now captures how different causes can lead to the same observation\n",
    "   - This helps reduce false alarms by considering alternative explanations\n",
    "\n",
    "3. **Probabilistic Reasoning**:\n",
    "   - The network automatically weighs different pieces of evidence\n",
    "   - It considers both direct causes (fire) and alternative explanations (season, cigarettes)\n",
    "\n",
    "### Exercise Extension\n",
    "\n",
    "Consider these additional questions:\n",
    "1. How does the season affect the number of sensors needed to confidently detect a fire?\n",
    "2. What is the optimal sensor threshold for fire detection in summer vs winter?\n",
    "3. How would you modify the model to account for time of day (which might affect both temperature and cigarette probability)?\n"
   ]
  }
 ],
 "metadata": {
  "kernelspec": {
   "display_name": "venv",
   "language": "python",
   "name": "python3"
  },
  "language_info": {
   "codemirror_mode": {
    "name": "ipython",
    "version": 3
   },
   "file_extension": ".py",
   "mimetype": "text/x-python",
   "name": "python",
   "nbconvert_exporter": "python",
   "pygments_lexer": "ipython3",
   "version": "3.9.6"
  }
 },
 "nbformat": 4,
 "nbformat_minor": 5
}
